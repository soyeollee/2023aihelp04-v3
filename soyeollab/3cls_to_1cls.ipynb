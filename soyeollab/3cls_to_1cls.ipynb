{
 "cells": [
  {
   "cell_type": "code",
   "execution_count": 19,
   "metadata": {
    "collapsed": true
   },
   "outputs": [],
   "source": [
    "import os\n",
    "from glob import glob\n",
    "import nibabel\n",
    "from tqdm import tqdm"
   ]
  },
  {
   "cell_type": "code",
   "execution_count": 20,
   "outputs": [],
   "source": [
    "label_path_aihelp = '/home/soyeollee/workspace/data/aihelp/ImageData/'"
   ],
   "metadata": {
    "collapsed": false
   }
  },
  {
   "cell_type": "code",
   "execution_count": 25,
   "outputs": [],
   "source": [
    "label_path_list = glob(os.path.join(label_path_aihelp, '*', 'T1_space' ,'ROI.nii.gz'))\n",
    "label_path_list.sort()"
   ],
   "metadata": {
    "collapsed": false
   }
  },
  {
   "cell_type": "code",
   "execution_count": 26,
   "outputs": [
    {
     "name": "stderr",
     "output_type": "stream",
     "text": [
      " 49%|████▊     | 179/369 [00:29<00:30,  6.16it/s]\n"
     ]
    },
    {
     "ename": "ImageFileError",
     "evalue": "Empty file: '/home/soyeollee/workspace/data/aihelp/ImageData/BraTS20_Training_180/T1_space/ROI.nii.gz'",
     "output_type": "error",
     "traceback": [
      "\u001B[0;31m---------------------------------------------------------------------------\u001B[0m",
      "\u001B[0;31mImageFileError\u001B[0m                            Traceback (most recent call last)",
      "Cell \u001B[0;32mIn[26], line 2\u001B[0m\n\u001B[1;32m      1\u001B[0m \u001B[38;5;28;01mfor\u001B[39;00m label_path \u001B[38;5;129;01min\u001B[39;00m tqdm(label_path_list):\n\u001B[0;32m----> 2\u001B[0m     label_data \u001B[38;5;241m=\u001B[39m \u001B[43mnibabel\u001B[49m\u001B[38;5;241;43m.\u001B[39;49m\u001B[43mload\u001B[49m\u001B[43m(\u001B[49m\u001B[43mlabel_path\u001B[49m\u001B[43m)\u001B[49m\n\u001B[1;32m      3\u001B[0m     _affine \u001B[38;5;241m=\u001B[39m label_data\u001B[38;5;241m.\u001B[39maffine\n\u001B[1;32m      4\u001B[0m     label_data \u001B[38;5;241m=\u001B[39m label_data\u001B[38;5;241m.\u001B[39mget_fdata()\n",
      "File \u001B[0;32m~/venvs/2023aihelp04/lib/python3.10/site-packages/nibabel/loadsave.py:104\u001B[0m, in \u001B[0;36mload\u001B[0;34m(filename, **kwargs)\u001B[0m\n\u001B[1;32m    102\u001B[0m     \u001B[38;5;28;01mraise\u001B[39;00m \u001B[38;5;167;01mFileNotFoundError\u001B[39;00m(\u001B[38;5;124mf\u001B[39m\u001B[38;5;124m\"\u001B[39m\u001B[38;5;124mNo such file or no access: \u001B[39m\u001B[38;5;124m'\u001B[39m\u001B[38;5;132;01m{\u001B[39;00mfilename\u001B[38;5;132;01m}\u001B[39;00m\u001B[38;5;124m'\u001B[39m\u001B[38;5;124m\"\u001B[39m)\n\u001B[1;32m    103\u001B[0m \u001B[38;5;28;01mif\u001B[39;00m stat_result\u001B[38;5;241m.\u001B[39mst_size \u001B[38;5;241m<\u001B[39m\u001B[38;5;241m=\u001B[39m \u001B[38;5;241m0\u001B[39m:\n\u001B[0;32m--> 104\u001B[0m     \u001B[38;5;28;01mraise\u001B[39;00m ImageFileError(\u001B[38;5;124mf\u001B[39m\u001B[38;5;124m\"\u001B[39m\u001B[38;5;124mEmpty file: \u001B[39m\u001B[38;5;124m'\u001B[39m\u001B[38;5;132;01m{\u001B[39;00mfilename\u001B[38;5;132;01m}\u001B[39;00m\u001B[38;5;124m'\u001B[39m\u001B[38;5;124m\"\u001B[39m)\n\u001B[1;32m    106\u001B[0m sniff \u001B[38;5;241m=\u001B[39m \u001B[38;5;28;01mNone\u001B[39;00m\n\u001B[1;32m    107\u001B[0m \u001B[38;5;28;01mfor\u001B[39;00m image_klass \u001B[38;5;129;01min\u001B[39;00m all_image_classes:\n",
      "\u001B[0;31mImageFileError\u001B[0m: Empty file: '/home/soyeollee/workspace/data/aihelp/ImageData/BraTS20_Training_180/T1_space/ROI.nii.gz'"
     ]
    }
   ],
   "source": [
    "for label_path in tqdm(label_path_list):\n",
    "    label_data = nibabel.load(label_path)\n",
    "    _affine = label_data.affine\n",
    "    label_data = label_data.get_fdata()\n",
    "\n",
    "    # multi-class to one-class\n",
    "    label_data[label_data >= 1.] = 1\n",
    "\n",
    "    # save label_data\n",
    "    label_data = nibabel.Nifti1Image(label_data, affine=_affine)\n",
    "    nibabel.save(label_data, label_path)"
   ],
   "metadata": {
    "collapsed": false
   }
  },
  {
   "cell_type": "code",
   "execution_count": 15,
   "outputs": [
    {
     "data": {
      "text/plain": "array([[ -1.,  -0.,  -0.,   0.],\n       [ -0.,  -1.,  -0., 239.],\n       [  0.,   0.,   1.,   0.],\n       [  0.,   0.,   0.,   1.]])"
     },
     "execution_count": 15,
     "metadata": {},
     "output_type": "execute_result"
    }
   ],
   "source": [
    "label_data.affine\n"
   ],
   "metadata": {
    "collapsed": false
   }
  },
  {
   "cell_type": "code",
   "execution_count": 20,
   "outputs": [
    {
     "name": "stdout",
     "output_type": "stream",
     "text": [
      "brats image: (240, 240, 155, 4)\n",
      "brats label: (240, 240, 155)\n",
      "aihelp image: (240, 240, 155)\n",
      "aihelp label: (240, 240, 155)\n"
     ]
    }
   ],
   "source": [],
   "metadata": {
    "collapsed": false
   }
  },
  {
   "cell_type": "code",
   "execution_count": 7,
   "outputs": [
    {
     "data": {
      "text/plain": "(240, 240, 155, 4)"
     },
     "execution_count": 7,
     "metadata": {},
     "output_type": "execute_result"
    }
   ],
   "source": [],
   "metadata": {
    "collapsed": false
   }
  },
  {
   "cell_type": "code",
   "execution_count": null,
   "outputs": [],
   "source": [],
   "metadata": {
    "collapsed": false
   }
  }
 ],
 "metadata": {
  "kernelspec": {
   "display_name": "Python 3",
   "language": "python",
   "name": "python3"
  },
  "language_info": {
   "codemirror_mode": {
    "name": "ipython",
    "version": 2
   },
   "file_extension": ".py",
   "mimetype": "text/x-python",
   "name": "python",
   "nbconvert_exporter": "python",
   "pygments_lexer": "ipython2",
   "version": "2.7.6"
  }
 },
 "nbformat": 4,
 "nbformat_minor": 0
}
