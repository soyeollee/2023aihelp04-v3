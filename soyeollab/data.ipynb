{
 "cells": [
  {
   "cell_type": "code",
   "execution_count": 1,
   "metadata": {
    "collapsed": true
   },
   "outputs": [],
   "source": [
    "import nibabel"
   ]
  },
  {
   "cell_type": "code",
   "execution_count": 10,
   "outputs": [],
   "source": [
    "image_path_aihelp = '/home/soyeollee/workspace/data/aihelp/ImageData/BraTS20_Training_001/T1_space/T1_FOV.nii.gz'\n",
    "label_path_aihelp = '/home/soyeollee/workspace/data/aihelp/ImageData/BraTS20_Training_001/T1_space/ROI.nii.gz'\n",
    "image_path_brats = '/home/soyeollee/workspace/data/Task01_BrainTumour/imagesTr/BRATS_001.nii.gz'\n",
    "label_path_brats = '/home/soyeollee/workspace/data/Task01_BrainTumour/labelsTr/BRATS_001.nii.gz'"
   ],
   "metadata": {
    "collapsed": false
   }
  },
  {
   "cell_type": "code",
   "execution_count": 18,
   "outputs": [],
   "source": [
    "image_brats = nibabel.load(image_path_brats)\n",
    "label_brats = nibabel.load(label_path_brats)\n",
    "image_aihelp = nibabel.load(image_path_aihelp)\n",
    "label_aihelp = nibabel.load(label_path_aihelp)\n",
    "\n",
    "image_brats_data = image_brats.get_fdata()\n",
    "label_brats_data = label_brats.get_fdata()\n",
    "image_aihelp_data = image_aihelp.get_fdata()\n",
    "label_aihelp_data = label_aihelp.get_fdata()"
   ],
   "metadata": {
    "collapsed": false
   }
  },
  {
   "cell_type": "code",
   "execution_count": 20,
   "outputs": [
    {
     "name": "stdout",
     "output_type": "stream",
     "text": [
      "brats image: (240, 240, 155, 4)\n",
      "brats label: (240, 240, 155)\n",
      "aihelp image: (240, 240, 155)\n",
      "aihelp label: (240, 240, 155)\n"
     ]
    }
   ],
   "source": [
    "print(f\"brats image: {image_brats_data.shape}\")\n",
    "print(f\"brats label: {label_brats_data.shape}\")\n",
    "print(f\"aihelp image: {image_aihelp_data.shape}\")\n",
    "print(f\"aihelp label: {label_aihelp_data.shape}\")"
   ],
   "metadata": {
    "collapsed": false
   }
  },
  {
   "cell_type": "code",
   "execution_count": 7,
   "outputs": [
    {
     "data": {
      "text/plain": "(240, 240, 155, 4)"
     },
     "execution_count": 7,
     "metadata": {},
     "output_type": "execute_result"
    }
   ],
   "source": [
    "image_brats_data.shape"
   ],
   "metadata": {
    "collapsed": false
   }
  },
  {
   "cell_type": "code",
   "execution_count": null,
   "outputs": [],
   "source": [],
   "metadata": {
    "collapsed": false
   }
  }
 ],
 "metadata": {
  "kernelspec": {
   "display_name": "Python 3",
   "language": "python",
   "name": "python3"
  },
  "language_info": {
   "codemirror_mode": {
    "name": "ipython",
    "version": 2
   },
   "file_extension": ".py",
   "mimetype": "text/x-python",
   "name": "python",
   "nbconvert_exporter": "python",
   "pygments_lexer": "ipython2",
   "version": "2.7.6"
  }
 },
 "nbformat": 4,
 "nbformat_minor": 0
}
